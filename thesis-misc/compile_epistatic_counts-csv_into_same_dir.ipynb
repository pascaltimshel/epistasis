{
 "cells": [
  {
   "cell_type": "code",
   "execution_count": 1,
   "metadata": {
    "collapsed": true
   },
   "outputs": [],
   "source": [
    "import os\n",
    "import sys\n",
    "import shutil"
   ]
  },
  {
   "cell_type": "markdown",
   "metadata": {},
   "source": [
    "This script is used to COPY figures from individual \"runs\" into the same dir.\n",
    "The plot file is RENAMED to give a proper identifier"
   ]
  },
  {
   "cell_type": "code",
   "execution_count": 2,
   "metadata": {
    "collapsed": false
   },
   "outputs": [
    {
     "data": {
      "text/plain": [
       "'/Users/pascaltimshel/Dropbox/0_Projects/p_HiC/Ferhat_Ay_2014/fastEpi_compiled_broad_scp_null_v2/compiled_2015-06-29_epistatic_counts_csv'"
      ]
     },
     "execution_count": 2,
     "metadata": {},
     "output_type": "execute_result"
    }
   ],
   "source": [
    "# Output and directories\n",
    "path_out_name = \"compiled_2015-06-29_epistatic_counts_csv\"\n",
    "path_plots_compiled = \"/Users/pascaltimshel/Dropbox/0_Projects/p_HiC/Ferhat_Ay_2014/fastEpi_compiled_broad_scp_null_v2\"\n",
    "path_out = os.path.join(path_plots_compiled, path_out_name)\n",
    "path_out"
   ]
  },
  {
   "cell_type": "code",
   "execution_count": 3,
   "metadata": {
    "collapsed": false
   },
   "outputs": [
    {
     "name": "stdout",
     "output_type": "stream",
     "text": [
      "path_out created\n"
     ]
    }
   ],
   "source": [
    "## create output dir\n",
    "if not os.path.exists(path_out):\n",
    "    os.mkdir(path_out)\n",
    "    print \"path_out created\""
   ]
  },
  {
   "cell_type": "code",
   "execution_count": 4,
   "metadata": {
    "collapsed": false
   },
   "outputs": [
    {
     "name": "stdout",
     "output_type": "stream",
     "text": [
      "could not find .DS_Store\n",
      "could not find compiled_2015-06-07_plots\n",
      "could not find compiled_2015-06-15_epistatic_counts_csv\n",
      "could not find compiled_2015-06-29_epistatic_counts_csv\n",
      "could not find compiled_2015-06-29_plots\n",
      "could not find OLD_before_blacklist\n"
     ]
    }
   ],
   "source": [
    "for directory in os.listdir(path_plots_compiled):\n",
    "    plot_of_interest = \"{base}/{directory}/epistasis_table_processing/epistatic_counts.csv\".format(base=path_plots_compiled, directory=directory)\n",
    "    if os.path.exists(plot_of_interest):\n",
    "        #print directory\n",
    "        plot_name_out = \"epistatic_counts_{}.csv\".format(directory)\n",
    "        tmp_path_out_plot = os.path.join(path_out, plot_name_out)\n",
    "        #print tmp_path_out_plot\n",
    "        ###shutil.copyfile(src, dst)\n",
    "        shutil.copyfile(plot_of_interest, tmp_path_out_plot)\n",
    "    else:\n",
    "        print \"could not find {}\".format(directory)\n",
    "        \n"
   ]
  },
  {
   "cell_type": "code",
   "execution_count": 5,
   "metadata": {
    "collapsed": false
   },
   "outputs": [
    {
     "data": {
      "text/plain": [
       "['.DS_Store',\n",
       " 'compiled_2015-06-07_plots',\n",
       " 'compiled_2015-06-15_epistatic_counts_csv',\n",
       " 'compiled_2015-06-29_epistatic_counts_csv',\n",
       " 'compiled_2015-06-29_plots',\n",
       " 'hESC-contactCount_1_width_1000_maf_5_q_1_epi1_1e-8',\n",
       " 'hESC_width_1000_maf_5_q_1e-12_epi1_1e-10',\n",
       " 'hESC_width_2500_maf_5_q_1e-13_epi1_1e-10',\n",
       " 'hESC_width_500_maf_5_q_1e-14_epi1_1e-8',\n",
       " 'hESC_width_500_maf_5_q_1e-16_epi1_1e-8',\n",
       " 'hIMR90-contactCount_1_width_1000_maf_5_q_1_epi1_1e-8',\n",
       " 'hIMR90_width_1000_maf_5_q_1e-06_epi1_1e-10',\n",
       " 'hIMR90_width_2500_maf_5_q_1e-07_epi1_1e-8',\n",
       " 'hIMR90_width_50000_maf_5_q_1e-09_epi1_1e-10',\n",
       " 'hIMR90_width_500_maf_5_q_1e-06_epi1_1e-8',\n",
       " 'hIMR90_width_500_maf_5_q_1e-08_epi1_1e-8',\n",
       " 'lan-et-al_K562_width_1000_maf_5_q_OUTLIER_RM_epi1_1e-8',\n",
       " 'lan-et-al_K562_width_5000_maf_5_q_OUTLIER_RM_epi1_1e-8',\n",
       " 'OLD_before_blacklist']"
      ]
     },
     "execution_count": 5,
     "metadata": {},
     "output_type": "execute_result"
    }
   ],
   "source": [
    "os.listdir(path_plots_compiled)"
   ]
  },
  {
   "cell_type": "code",
   "execution_count": null,
   "metadata": {
    "collapsed": true
   },
   "outputs": [],
   "source": []
  },
  {
   "cell_type": "markdown",
   "metadata": {
    "collapsed": true
   },
   "source": [
    "# Extract P-values"
   ]
  },
  {
   "cell_type": "raw",
   "metadata": {
    "collapsed": false
   },
   "source": [
    "stats_processing.txt\n",
    "....\n",
    "p_value_dict[count_significant]: 0.000999000999001\n",
    "p_value_dict[count_significant_pruned_EIID]: 0.583416583417\n",
    "p_value_dict[count_significant_pruned_EIID_probe]: 0.01998001998\n",
    "p_value_dict[count_significant_pruned_hemani]: 0.014985014985"
   ]
  },
  {
   "cell_type": "code",
   "execution_count": 6,
   "metadata": {
    "collapsed": false
   },
   "outputs": [],
   "source": [
    "import re\n",
    "#pattern = re.compile(r\"p_value_dict[count_significant]:\\s+(\\d+.\\d+)\\np_value_dict[count_significant_pruned_EIID]:\\s+(\\d+.\\d+)\\np_value_dict[count_significant_pruned_hemani]:\\s+(\\d+.\\d+)\")\n",
    "#pattern = re.compile(r\"p_value_dict\\[count_significant\\]:\\s+(\\d+.\\d+)\", re.MULTILINE)\n",
    "#pattern = re.compile(r\"p_value_dict\\[count_significant\\]:\\s+(\\d+.\\d+).*?(\\d+.\\d+).*?(\\d+.\\d+)\", re.MULTILINE | re.DOTALL)\n",
    "\n",
    "\n",
    "## INCLUDING count_significant_pruned_EIID_probe\n",
    "pattern = re.compile(r\"p_value_dict\\[count_significant\\]:\\s+(\\d+.\\d+).*?(\\d+.\\d+).*?(\\d+.\\d+).*?(\\d+.\\d+)\", re.MULTILINE | re.DOTALL)\n"
   ]
  },
  {
   "cell_type": "code",
   "execution_count": 10,
   "metadata": {
    "collapsed": false
   },
   "outputs": [
    {
     "name": "stdout",
     "output_type": "stream",
     "text": [
      "could not find .DS_Store\n",
      "could not find compiled_2015-06-07_plots\n",
      "could not find compiled_2015-06-15_epistatic_counts_csv\n",
      "could not find compiled_2015-06-29_epistatic_counts_csv\n",
      "could not find compiled_2015-06-29_plots\n",
      "hESC-contactCount_1_width_1000_maf_5_q_1_epi1_1e-8\t0.137862137862\t0.374625374625\t0.316683316683\t0.313686313686\n",
      "hESC_width_1000_maf_5_q_1e-12_epi1_1e-10\t0.762237762238\t0.423576423576\t0.643356643357\t0.625374625375\n",
      "hESC_width_2500_maf_5_q_1e-13_epi1_1e-10\t0.415584415584\t0.015984015984\t0.142857142857\t0.15984015984\n",
      "hESC_width_500_maf_5_q_1e-14_epi1_1e-8\t0.672327672328\t0.451548451548\t0.62037962038\t0.618381618382\n",
      "hESC_width_500_maf_5_q_1e-16_epi1_1e-8\t0.23976023976\t0.0889110889111\t0.256743256743\t0.255744255744\n",
      "hIMR90-contactCount_1_width_1000_maf_5_q_1_epi1_1e-8\t0.151848151848\t0.107892107892\t0.168831168831\t0.168831168831\n",
      "hIMR90_width_1000_maf_5_q_1e-06_epi1_1e-10\t0.000999000999001\t0.400599400599\t0.000999000999001\t0.000999000999001\n",
      "hIMR90_width_2500_maf_5_q_1e-07_epi1_1e-8\t0.000999000999001\t0.583416583417\t0.01998001998\t0.014985014985\n",
      "hIMR90_width_50000_maf_5_q_1e-09_epi1_1e-10\t0.56043956044\t0.903096903097\t0.927072927073\t0.967032967033\n",
      "hIMR90_width_500_maf_5_q_1e-06_epi1_1e-8\t0.00899100899101\t0.881118881119\t0.0779220779221\t0.0749250749251\n",
      "hIMR90_width_500_maf_5_q_1e-08_epi1_1e-8\t0.0689310689311\t0.371628371628\t0.00799200799201\t0.00799200799201\n",
      "lan-et-al_K562_width_1000_maf_5_q_OUTLIER_RM_epi1_1e-8\t0.635364635365\t0.556443556444\t0.54045954046\t0.532467532468\n",
      "lan-et-al_K562_width_5000_maf_5_q_OUTLIER_RM_epi1_1e-8\t0.82017982018\t0.786213786214\t0.78021978022\t0.766233766234\n",
      "could not find OLD_before_blacklist\n"
     ]
    }
   ],
   "source": [
    "for directory in os.listdir(path_plots_compiled):\n",
    "    file_of_interest = \"{base}/{directory}/epistasis_table_processing/stats_processing.txt\".format(base=path_plots_compiled, directory=directory)\n",
    "    if os.path.exists(file_of_interest):\n",
    "        fh_in = open(file_of_interest, \"r\")\n",
    "        file_string = fh_in.read()\n",
    "        #print file_string\n",
    "        #print pattern.search(file_string).groups()\n",
    "        mgroups = pattern.search(file_string).groups()\n",
    "        #print \"{}\\t{}\".format(directory, mgroups[0])\n",
    "        print \"{}\\t{}\\t{}\\t{}\\t{}\".format(directory, mgroups[0], mgroups[1], mgroups[2], mgroups[3])\n",
    "\n",
    "        fh_in.close()\n",
    "    else:\n",
    "        print \"could not find {}\".format(directory)"
   ]
  },
  {
   "cell_type": "code",
   "execution_count": null,
   "metadata": {
    "collapsed": true
   },
   "outputs": [],
   "source": []
  },
  {
   "cell_type": "code",
   "execution_count": null,
   "metadata": {
    "collapsed": true
   },
   "outputs": [],
   "source": []
  },
  {
   "cell_type": "code",
   "execution_count": null,
   "metadata": {
    "collapsed": true
   },
   "outputs": [],
   "source": []
  },
  {
   "cell_type": "code",
   "execution_count": null,
   "metadata": {
    "collapsed": true
   },
   "outputs": [],
   "source": []
  },
  {
   "cell_type": "code",
   "execution_count": null,
   "metadata": {
    "collapsed": true
   },
   "outputs": [],
   "source": []
  },
  {
   "cell_type": "code",
   "execution_count": null,
   "metadata": {
    "collapsed": true
   },
   "outputs": [],
   "source": []
  },
  {
   "cell_type": "code",
   "execution_count": null,
   "metadata": {
    "collapsed": true
   },
   "outputs": [],
   "source": []
  },
  {
   "cell_type": "code",
   "execution_count": null,
   "metadata": {
    "collapsed": true
   },
   "outputs": [],
   "source": []
  }
 ],
 "metadata": {
  "kernelspec": {
   "display_name": "Python 2",
   "language": "python",
   "name": "python2"
  },
  "language_info": {
   "codemirror_mode": {
    "name": "ipython",
    "version": 2
   },
   "file_extension": ".py",
   "mimetype": "text/x-python",
   "name": "python",
   "nbconvert_exporter": "python",
   "pygments_lexer": "ipython2",
   "version": "2.7.9"
  }
 },
 "nbformat": 4,
 "nbformat_minor": 0
}
