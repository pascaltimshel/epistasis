{
 "metadata": {
  "name": "",
  "signature": "sha256:9dd34fbe0c4a6b1af1119d45add74340ababb0dbb79fd40e8273f0fca6685276"
 },
 "nbformat": 3,
 "nbformat_minor": 0,
 "worksheets": [
  {
   "cells": [
    {
     "cell_type": "code",
     "collapsed": false,
     "input": [
      "%matplotlib inline\n",
      "import os\n",
      "import sys\n",
      "import numpy as np\n",
      "import pandas as pd\n",
      "\n",
      "# this module contains Matlab-like commands\n",
      "import matplotlib.pyplot as plt"
     ],
     "language": "python",
     "metadata": {},
     "outputs": [],
     "prompt_number": 1
    },
    {
     "cell_type": "code",
     "collapsed": false,
     "input": [
      "file_bim = \"/Users/pascaltimshel/Dropbox/EGCUT_DATA/geno/Prote_370k_251011.no_mixup.chr_infered.bim\"\n",
      "file_interactions = \"/Users/pascaltimshel/p_HiC/Lan_et_al_chromosomal_interactions/lift_findItersection.intersection.paste.updatedIDs\"\n",
      "interaction_width = 500*1000/2"
     ],
     "language": "python",
     "metadata": {},
     "outputs": [],
     "prompt_number": 2
    },
    {
     "cell_type": "code",
     "collapsed": false,
     "input": [
      "path_base_out = \"/Users/pascaltimshel/p_HiC/Lan_et_al_interaction_SNP_sets\""
     ],
     "language": "python",
     "metadata": {},
     "outputs": [],
     "prompt_number": 3
    },
    {
     "cell_type": "code",
     "collapsed": false,
     "input": [
      "header_bim = [\"chr\", \"snp\", \"cm\", \"pos\", \"dummy1\", \"dummy2\"]\n",
      "df_bim = pd.read_csv(file_bim, sep=\"\\t\", header=None, names=header_bim)"
     ],
     "language": "python",
     "metadata": {},
     "outputs": [],
     "prompt_number": 4
    },
    {
     "cell_type": "code",
     "collapsed": false,
     "input": [
      "df_bim\n",
      "len(df_bim)"
     ],
     "language": "python",
     "metadata": {},
     "outputs": [
      {
       "metadata": {},
       "output_type": "pyout",
       "prompt_number": 5,
       "text": [
        "2552493"
       ]
      }
     ],
     "prompt_number": 5
    },
    {
     "cell_type": "code",
     "collapsed": false,
     "input": [
      "### TODO\n",
      "#write the list of empty sets\n",
      "#loop over different interaction_width (use different prefix for output dir)"
     ],
     "language": "python",
     "metadata": {},
     "outputs": [],
     "prompt_number": 6
    },
    {
     "cell_type": "code",
     "collapsed": false,
     "input": [
      "df_set_stats = pd.DataFrame() #columns=['setA_size', 'setA_range' 'setB_size', 'setB_range']\n",
      "\n",
      "with open(file_interactions, 'r') as f:\n",
      "    for line_no, line in enumerate(f):\n",
      "        #if line_no == 100: break\n",
      "        \n",
      "        fields = line.strip().split()\n",
      "        (chr_A, pos_A, chr_B, pos_B, interaction_ID) = (fields[0], fields[1], fields[4], fields[5], fields[8])\n",
      "        \n",
      "        ## Turn off X chromosomes\n",
      "        #if (chr_A.upper() == 'CHRX') or (chr_B.upper() == 'CHRX'):\n",
      "        #    continue\n",
      "        ## Modifying chromosomes\n",
      "        if 'X' in chr_A.upper(): chr_A = chr_A.replace('X', '23')\n",
      "        if 'X' in chr_B.upper(): chr_B = chr_B.replace('X', '23')\n",
      "        chr_A = int(chr_A.lstrip('chr'))\n",
      "        chr_B = int(chr_B.lstrip('chr'))\n",
      "        pos_A = int(pos_A)\n",
      "        pos_B = int(pos_B)\n",
      "        if line_no % 100 == 20: print chr_A, pos_A, chr_B, pos_B, interaction_ID\n",
      "        \n",
      "        ### A\n",
      "        df_A_extract = df_bim[df_bim[\"chr\"]==chr_A]\n",
      "        df_A_extract = df_A_extract[(df_A_extract[\"pos\"] >= pos_A-interaction_width) & (df_bim[\"pos\"] <= pos_A+interaction_width)]\n",
      "        ### B\n",
      "        df_B_extract = df_bim[df_bim[\"chr\"]==chr_B]\n",
      "        df_B_extract = df_B_extract[(df_B_extract[\"pos\"] >= pos_B-interaction_width) & (df_bim[\"pos\"] <= pos_B+interaction_width)]       \n",
      "        \n",
      "        ## set calculations\n",
      "        tmp_intersection = len(set(df_A_extract['snp']).intersection(set(df_B_extract['snp'])))\n",
      "        tmp_union = len(set(df_A_extract['snp']).union(set(df_B_extract['snp'])))\n",
      "        ## number of tests\n",
      "        n_tests_plink = len(df_A_extract)*len(df_B_extract)-tmp_intersection\n",
      "        n_tests_non_redundant = len(df_A_extract)*len(df_B_extract)-tmp_intersection**2+(tmp_intersection-1)*tmp_intersection/2 # int division ok! # N_A*N_B-N_AB^2+(N_AB-1)*N_AB/2\n",
      "        ## df_stats\n",
      "        df_stats = pd.DataFrame({'set_interchromosomal':1 if chr_A != chr_B else 0,\n",
      "                                 'set_distance': abs(pos_A - pos_B) if chr_A == chr_B else None, # or np.nan\n",
      "                                'set_intersect':tmp_intersection,\n",
      "                                'set_union':tmp_union,\n",
      "                                'set_self_interaction':1 if (chr_A == chr_B) and (pos_A == pos_B) else 0,\n",
      "                                'set_percentage_shared':tmp_intersection/float(tmp_union)*100 if tmp_union!=0 else None, # float divison\n",
      "                                'set_n_tests_plink':n_tests_plink,\n",
      "                                'set_n_tests_non_redundant': n_tests_non_redundant,\n",
      "                                 'setA_size':len(df_A_extract), \n",
      "                                 'setA_range':df_A_extract[\"pos\"].max()-df_A_extract[\"pos\"].min(), \n",
      "                                 'setB_size':len(df_B_extract), \n",
      "                                 'setB_range':df_B_extract[\"pos\"].max()-df_B_extract[\"pos\"].min()}, \n",
      "                                index=[interaction_ID])\n",
      "        df_set_stats = df_set_stats.append(df_stats) # index and columns are appended to the end of the dataframe\n",
      "        # If no columns are passed, the columns will be the sorted list of dict keys.\n",
      "        \n",
      "        file_setA = path_base_out + \"/{}_A.txt\".format(interaction_ID)\n",
      "        file_setB = path_base_out + \"/{}_B.txt\".format(interaction_ID)\n",
      "        with open(file_setA, 'w') as fA:\n",
      "            for snp in df_A_extract[\"snp\"]:\n",
      "                fA.write(snp+\"\\n\")\n",
      "        with open(file_setB, 'w') as fB:\n",
      "            for snp in df_B_extract[\"snp\"]:\n",
      "                fB.write(snp+\"\\n\")\n",
      "\n",
      "        #if chr_A != chr_B: break"
     ],
     "language": "python",
     "metadata": {},
     "outputs": [
      {
       "output_type": "stream",
       "stream": "stdout",
       "text": [
        "1 196988778 1 197436585 interaction21\n",
        "4"
       ]
      },
      {
       "output_type": "stream",
       "stream": "stdout",
       "text": [
        " 39486029 4 40558258 interaction121\n",
        "4"
       ]
      },
      {
       "output_type": "stream",
       "stream": "stdout",
       "text": [
        " 143399287 4 143399287 interaction221\n",
        "9"
       ]
      },
      {
       "output_type": "stream",
       "stream": "stdout",
       "text": [
        " 128399361 9 127592226 interaction321\n",
        "12"
       ]
      },
      {
       "output_type": "stream",
       "stream": "stdout",
       "text": [
        " 61540929 12 61543267 interaction421\n",
        "3"
       ]
      },
      {
       "output_type": "stream",
       "stream": "stdout",
       "text": [
        " 71766491 3 71443142 interaction521\n",
        "7"
       ]
      },
      {
       "output_type": "stream",
       "stream": "stdout",
       "text": [
        " 4890718 7 5140069 interaction621\n",
        "1"
       ]
      },
      {
       "output_type": "stream",
       "stream": "stdout",
       "text": [
        " 150745167 8 127069876 interaction721\n",
        "23"
       ]
      },
      {
       "output_type": "stream",
       "stream": "stdout",
       "text": [
        " 24323337 23 23857933 interaction821\n",
        "15"
       ]
      },
      {
       "output_type": "stream",
       "stream": "stdout",
       "text": [
        " 43330084 15 42959251 interaction921\n",
        "2"
       ]
      },
      {
       "output_type": "stream",
       "stream": "stdout",
       "text": [
        " 8513150 2 7689505 interaction1021\n"
       ]
      },
      {
       "ename": "KeyboardInterrupt",
       "evalue": "",
       "output_type": "pyerr",
       "traceback": [
        "\u001b[0;31m---------------------------------------------------------------------------\u001b[0m\n\u001b[0;31mKeyboardInterrupt\u001b[0m                         Traceback (most recent call last)",
        "\u001b[0;32m<ipython-input-48-ca6fa845c0e9>\u001b[0m in \u001b[0;36m<module>\u001b[0;34m()\u001b[0m\n\u001b[1;32m     24\u001b[0m         \u001b[0mdf_A_extract\u001b[0m \u001b[0;34m=\u001b[0m \u001b[0mdf_A_extract\u001b[0m\u001b[0;34m[\u001b[0m\u001b[0;34m(\u001b[0m\u001b[0mdf_A_extract\u001b[0m\u001b[0;34m[\u001b[0m\u001b[0;34m\"pos\"\u001b[0m\u001b[0;34m]\u001b[0m \u001b[0;34m>=\u001b[0m \u001b[0mpos_A\u001b[0m\u001b[0;34m-\u001b[0m\u001b[0minteraction_width\u001b[0m\u001b[0;34m)\u001b[0m \u001b[0;34m&\u001b[0m \u001b[0;34m(\u001b[0m\u001b[0mdf_bim\u001b[0m\u001b[0;34m[\u001b[0m\u001b[0;34m\"pos\"\u001b[0m\u001b[0;34m]\u001b[0m \u001b[0;34m<=\u001b[0m \u001b[0mpos_A\u001b[0m\u001b[0;34m+\u001b[0m\u001b[0minteraction_width\u001b[0m\u001b[0;34m)\u001b[0m\u001b[0;34m]\u001b[0m\u001b[0;34m\u001b[0m\u001b[0m\n\u001b[1;32m     25\u001b[0m         \u001b[0;31m### B\u001b[0m\u001b[0;34m\u001b[0m\u001b[0;34m\u001b[0m\u001b[0m\n\u001b[0;32m---> 26\u001b[0;31m         \u001b[0mdf_B_extract\u001b[0m \u001b[0;34m=\u001b[0m \u001b[0mdf_bim\u001b[0m\u001b[0;34m[\u001b[0m\u001b[0mdf_bim\u001b[0m\u001b[0;34m[\u001b[0m\u001b[0;34m\"chr\"\u001b[0m\u001b[0;34m]\u001b[0m\u001b[0;34m==\u001b[0m\u001b[0mchr_B\u001b[0m\u001b[0;34m]\u001b[0m\u001b[0;34m\u001b[0m\u001b[0m\n\u001b[0m\u001b[1;32m     27\u001b[0m         \u001b[0mdf_B_extract\u001b[0m \u001b[0;34m=\u001b[0m \u001b[0mdf_B_extract\u001b[0m\u001b[0;34m[\u001b[0m\u001b[0;34m(\u001b[0m\u001b[0mdf_B_extract\u001b[0m\u001b[0;34m[\u001b[0m\u001b[0;34m\"pos\"\u001b[0m\u001b[0;34m]\u001b[0m \u001b[0;34m>=\u001b[0m \u001b[0mpos_B\u001b[0m\u001b[0;34m-\u001b[0m\u001b[0minteraction_width\u001b[0m\u001b[0;34m)\u001b[0m \u001b[0;34m&\u001b[0m \u001b[0;34m(\u001b[0m\u001b[0mdf_bim\u001b[0m\u001b[0;34m[\u001b[0m\u001b[0;34m\"pos\"\u001b[0m\u001b[0;34m]\u001b[0m \u001b[0;34m<=\u001b[0m \u001b[0mpos_B\u001b[0m\u001b[0;34m+\u001b[0m\u001b[0minteraction_width\u001b[0m\u001b[0;34m)\u001b[0m\u001b[0;34m]\u001b[0m\u001b[0;34m\u001b[0m\u001b[0m\n\u001b[1;32m     28\u001b[0m \u001b[0;34m\u001b[0m\u001b[0m\n",
        "\u001b[0;32m/usr/local/lib/python2.7/site-packages/pandas/core/ops.pyc\u001b[0m in \u001b[0;36mwrapper\u001b[0;34m(self, other)\u001b[0m\n\u001b[1;32m    561\u001b[0m         \u001b[0;32melse\u001b[0m\u001b[0;34m:\u001b[0m\u001b[0;34m\u001b[0m\u001b[0m\n\u001b[1;32m    562\u001b[0m \u001b[0;34m\u001b[0m\u001b[0m\n\u001b[0;32m--> 563\u001b[0;31m             \u001b[0mmask\u001b[0m \u001b[0;34m=\u001b[0m \u001b[0misnull\u001b[0m\u001b[0;34m(\u001b[0m\u001b[0mself\u001b[0m\u001b[0;34m)\u001b[0m\u001b[0;34m\u001b[0m\u001b[0m\n\u001b[0m\u001b[1;32m    564\u001b[0m \u001b[0;34m\u001b[0m\u001b[0m\n\u001b[1;32m    565\u001b[0m             \u001b[0mvalues\u001b[0m \u001b[0;34m=\u001b[0m \u001b[0mself\u001b[0m\u001b[0;34m.\u001b[0m\u001b[0mvalues\u001b[0m\u001b[0;34m\u001b[0m\u001b[0m\n",
        "\u001b[0;32m/usr/local/lib/python2.7/site-packages/pandas/core/common.pyc\u001b[0m in \u001b[0;36misnull\u001b[0;34m(obj)\u001b[0m\n\u001b[1;32m    127\u001b[0m     \u001b[0mpandas\u001b[0m\u001b[0;34m.\u001b[0m\u001b[0mnotnull\u001b[0m\u001b[0;34m:\u001b[0m \u001b[0mboolean\u001b[0m \u001b[0minverse\u001b[0m \u001b[0mof\u001b[0m \u001b[0mpandas\u001b[0m\u001b[0;34m.\u001b[0m\u001b[0misnull\u001b[0m\u001b[0;34m\u001b[0m\u001b[0m\n\u001b[1;32m    128\u001b[0m     \"\"\"\n\u001b[0;32m--> 129\u001b[0;31m     \u001b[0;32mreturn\u001b[0m \u001b[0m_isnull\u001b[0m\u001b[0;34m(\u001b[0m\u001b[0mobj\u001b[0m\u001b[0;34m)\u001b[0m\u001b[0;34m\u001b[0m\u001b[0m\n\u001b[0m\u001b[1;32m    130\u001b[0m \u001b[0;34m\u001b[0m\u001b[0m\n\u001b[1;32m    131\u001b[0m \u001b[0;34m\u001b[0m\u001b[0m\n",
        "\u001b[0;32m/usr/local/lib/python2.7/site-packages/pandas/core/common.pyc\u001b[0m in \u001b[0;36m_isnull_new\u001b[0;34m(obj)\u001b[0m\n\u001b[1;32m    137\u001b[0m         \u001b[0;32mraise\u001b[0m \u001b[0mNotImplementedError\u001b[0m\u001b[0;34m(\u001b[0m\u001b[0;34m\"isnull is not defined for MultiIndex\"\u001b[0m\u001b[0;34m)\u001b[0m\u001b[0;34m\u001b[0m\u001b[0m\n\u001b[1;32m    138\u001b[0m     \u001b[0;32melif\u001b[0m \u001b[0misinstance\u001b[0m\u001b[0;34m(\u001b[0m\u001b[0mobj\u001b[0m\u001b[0;34m,\u001b[0m \u001b[0;34m(\u001b[0m\u001b[0mABCSeries\u001b[0m\u001b[0;34m,\u001b[0m \u001b[0mnp\u001b[0m\u001b[0;34m.\u001b[0m\u001b[0mndarray\u001b[0m\u001b[0;34m)\u001b[0m\u001b[0;34m)\u001b[0m\u001b[0;34m:\u001b[0m\u001b[0;34m\u001b[0m\u001b[0m\n\u001b[0;32m--> 139\u001b[0;31m         \u001b[0;32mreturn\u001b[0m \u001b[0m_isnull_ndarraylike\u001b[0m\u001b[0;34m(\u001b[0m\u001b[0mobj\u001b[0m\u001b[0;34m)\u001b[0m\u001b[0;34m\u001b[0m\u001b[0m\n\u001b[0m\u001b[1;32m    140\u001b[0m     \u001b[0;32melif\u001b[0m \u001b[0misinstance\u001b[0m\u001b[0;34m(\u001b[0m\u001b[0mobj\u001b[0m\u001b[0;34m,\u001b[0m \u001b[0mABCGeneric\u001b[0m\u001b[0;34m)\u001b[0m\u001b[0;34m:\u001b[0m\u001b[0;34m\u001b[0m\u001b[0m\n\u001b[1;32m    141\u001b[0m         \u001b[0;32mreturn\u001b[0m \u001b[0mobj\u001b[0m\u001b[0;34m.\u001b[0m\u001b[0m_constructor\u001b[0m\u001b[0;34m(\u001b[0m\u001b[0mobj\u001b[0m\u001b[0;34m.\u001b[0m\u001b[0m_data\u001b[0m\u001b[0;34m.\u001b[0m\u001b[0misnull\u001b[0m\u001b[0;34m(\u001b[0m\u001b[0mfunc\u001b[0m\u001b[0;34m=\u001b[0m\u001b[0misnull\u001b[0m\u001b[0;34m)\u001b[0m\u001b[0;34m)\u001b[0m\u001b[0;34m\u001b[0m\u001b[0m\n",
        "\u001b[0;32m/usr/local/lib/python2.7/site-packages/pandas/core/common.pyc\u001b[0m in \u001b[0;36m_isnull_ndarraylike\u001b[0;34m(obj)\u001b[0m\n\u001b[1;32m    220\u001b[0m         \u001b[0mresult\u001b[0m \u001b[0;34m=\u001b[0m \u001b[0mvalues\u001b[0m\u001b[0;34m.\u001b[0m\u001b[0mview\u001b[0m\u001b[0;34m(\u001b[0m\u001b[0;34m'i8'\u001b[0m\u001b[0;34m)\u001b[0m \u001b[0;34m==\u001b[0m \u001b[0mtslib\u001b[0m\u001b[0;34m.\u001b[0m\u001b[0miNaT\u001b[0m\u001b[0;34m\u001b[0m\u001b[0m\n\u001b[1;32m    221\u001b[0m     \u001b[0;32melse\u001b[0m\u001b[0;34m:\u001b[0m\u001b[0;34m\u001b[0m\u001b[0m\n\u001b[0;32m--> 222\u001b[0;31m         \u001b[0mresult\u001b[0m \u001b[0;34m=\u001b[0m \u001b[0mnp\u001b[0m\u001b[0;34m.\u001b[0m\u001b[0misnan\u001b[0m\u001b[0;34m(\u001b[0m\u001b[0mvalues\u001b[0m\u001b[0;34m)\u001b[0m\u001b[0;34m\u001b[0m\u001b[0m\n\u001b[0m\u001b[1;32m    223\u001b[0m \u001b[0;34m\u001b[0m\u001b[0m\n\u001b[1;32m    224\u001b[0m     \u001b[0;31m# box\u001b[0m\u001b[0;34m\u001b[0m\u001b[0;34m\u001b[0m\u001b[0m\n",
        "\u001b[0;31mKeyboardInterrupt\u001b[0m: "
       ]
      }
     ],
     "prompt_number": 48
    },
    {
     "cell_type": "code",
     "collapsed": false,
     "input": [
      "#print df_A_extract\n",
      "print df_A_extract[\"pos\"].mean()\n",
      "print df_A_extract[\"pos\"].mean() - pos_A\n",
      "print df_A_extract[\"pos\"].max()"
     ],
     "language": "python",
     "metadata": {},
     "outputs": [
      {
       "output_type": "stream",
       "stream": "stdout",
       "text": [
        "21494056.1853\n",
        "27477.1852732\n",
        "21715523\n"
       ]
      }
     ],
     "prompt_number": 8
    },
    {
     "cell_type": "code",
     "collapsed": false,
     "input": [
      "df_set_stats.head(10)"
     ],
     "language": "python",
     "metadata": {},
     "outputs": [
      {
       "html": [
        "<div style=\"max-height:1000px;max-width:1500px;overflow:auto;\">\n",
        "<table border=\"1\" class=\"dataframe\">\n",
        "  <thead>\n",
        "    <tr style=\"text-align: right;\">\n",
        "      <th></th>\n",
        "      <th>setA_range</th>\n",
        "      <th>setA_size</th>\n",
        "      <th>setB_range</th>\n",
        "      <th>setB_size</th>\n",
        "      <th>set_distance</th>\n",
        "      <th>set_interchromosomal</th>\n",
        "      <th>set_intersect</th>\n",
        "      <th>set_n_tests_non_redundant</th>\n",
        "      <th>set_n_tests_plink</th>\n",
        "      <th>set_percentage_shared</th>\n",
        "      <th>set_self_interaction</th>\n",
        "      <th>set_union</th>\n",
        "    </tr>\n",
        "  </thead>\n",
        "  <tbody>\n",
        "    <tr>\n",
        "      <th>interaction1</th>\n",
        "      <td> 499669</td>\n",
        "      <td> 363</td>\n",
        "      <td> 494781</td>\n",
        "      <td> 609</td>\n",
        "      <td> 719037</td>\n",
        "      <td> 0</td>\n",
        "      <td>   0</td>\n",
        "      <td> 221067</td>\n",
        "      <td> 221067</td>\n",
        "      <td>   0.000000</td>\n",
        "      <td> 0</td>\n",
        "      <td>  972</td>\n",
        "    </tr>\n",
        "    <tr>\n",
        "      <th>interaction2</th>\n",
        "      <td> 499050</td>\n",
        "      <td> 542</td>\n",
        "      <td> 497256</td>\n",
        "      <td> 579</td>\n",
        "      <td> 505198</td>\n",
        "      <td> 0</td>\n",
        "      <td>   0</td>\n",
        "      <td> 313818</td>\n",
        "      <td> 313818</td>\n",
        "      <td>   0.000000</td>\n",
        "      <td> 0</td>\n",
        "      <td> 1121</td>\n",
        "    </tr>\n",
        "    <tr>\n",
        "      <th>interaction3</th>\n",
        "      <td> 496863</td>\n",
        "      <td> 507</td>\n",
        "      <td> 496217</td>\n",
        "      <td> 507</td>\n",
        "      <td>  55132</td>\n",
        "      <td> 0</td>\n",
        "      <td> 432</td>\n",
        "      <td> 163521</td>\n",
        "      <td> 256617</td>\n",
        "      <td>  74.226804</td>\n",
        "      <td> 0</td>\n",
        "      <td>  582</td>\n",
        "    </tr>\n",
        "    <tr>\n",
        "      <th>interaction4</th>\n",
        "      <td> 499432</td>\n",
        "      <td> 509</td>\n",
        "      <td> 497297</td>\n",
        "      <td> 751</td>\n",
        "      <td> 724486</td>\n",
        "      <td> 0</td>\n",
        "      <td>   0</td>\n",
        "      <td> 382259</td>\n",
        "      <td> 382259</td>\n",
        "      <td>   0.000000</td>\n",
        "      <td> 0</td>\n",
        "      <td> 1260</td>\n",
        "    </tr>\n",
        "    <tr>\n",
        "      <th>interaction5</th>\n",
        "      <td> 495750</td>\n",
        "      <td> 488</td>\n",
        "      <td> 498239</td>\n",
        "      <td> 336</td>\n",
        "      <td> 838014</td>\n",
        "      <td> 0</td>\n",
        "      <td>   0</td>\n",
        "      <td> 163968</td>\n",
        "      <td> 163968</td>\n",
        "      <td>   0.000000</td>\n",
        "      <td> 0</td>\n",
        "      <td>  824</td>\n",
        "    </tr>\n",
        "    <tr>\n",
        "      <th>interaction6</th>\n",
        "      <td> 497808</td>\n",
        "      <td> 388</td>\n",
        "      <td> 497808</td>\n",
        "      <td> 388</td>\n",
        "      <td>      0</td>\n",
        "      <td> 0</td>\n",
        "      <td> 388</td>\n",
        "      <td>  75078</td>\n",
        "      <td> 150156</td>\n",
        "      <td> 100.000000</td>\n",
        "      <td> 1</td>\n",
        "      <td>  388</td>\n",
        "    </tr>\n",
        "    <tr>\n",
        "      <th>interaction7</th>\n",
        "      <td> 484086</td>\n",
        "      <td> 252</td>\n",
        "      <td> 481092</td>\n",
        "      <td> 247</td>\n",
        "      <td>   3372</td>\n",
        "      <td> 0</td>\n",
        "      <td> 247</td>\n",
        "      <td>  31616</td>\n",
        "      <td>  61997</td>\n",
        "      <td>  98.015873</td>\n",
        "      <td> 0</td>\n",
        "      <td>  252</td>\n",
        "    </tr>\n",
        "    <tr>\n",
        "      <th>interaction8</th>\n",
        "      <td> 484086</td>\n",
        "      <td> 252</td>\n",
        "      <td> 496930</td>\n",
        "      <td> 223</td>\n",
        "      <td>  86979</td>\n",
        "      <td> 0</td>\n",
        "      <td> 182</td>\n",
        "      <td>  39543</td>\n",
        "      <td>  56014</td>\n",
        "      <td>  62.116041</td>\n",
        "      <td> 0</td>\n",
        "      <td>  293</td>\n",
        "    </tr>\n",
        "    <tr>\n",
        "      <th>interaction9</th>\n",
        "      <td> 499840</td>\n",
        "      <td> 430</td>\n",
        "      <td> 496497</td>\n",
        "      <td> 426</td>\n",
        "      <td>  15422</td>\n",
        "      <td> 0</td>\n",
        "      <td> 418</td>\n",
        "      <td>  95609</td>\n",
        "      <td> 182762</td>\n",
        "      <td>  95.433790</td>\n",
        "      <td> 0</td>\n",
        "      <td>  438</td>\n",
        "    </tr>\n",
        "    <tr>\n",
        "      <th>interaction10</th>\n",
        "      <td> 498356</td>\n",
        "      <td> 377</td>\n",
        "      <td> 494919</td>\n",
        "      <td> 372</td>\n",
        "      <td> 161880</td>\n",
        "      <td> 0</td>\n",
        "      <td> 267</td>\n",
        "      <td> 104466</td>\n",
        "      <td> 139977</td>\n",
        "      <td>  55.394191</td>\n",
        "      <td> 0</td>\n",
        "      <td>  482</td>\n",
        "    </tr>\n",
        "  </tbody>\n",
        "</table>\n",
        "</div>"
       ],
       "metadata": {},
       "output_type": "pyout",
       "prompt_number": 51,
       "text": [
        "               setA_range  setA_size  setB_range  setB_size  set_distance  \\\n",
        "interaction1       499669        363      494781        609        719037   \n",
        "interaction2       499050        542      497256        579        505198   \n",
        "interaction3       496863        507      496217        507         55132   \n",
        "interaction4       499432        509      497297        751        724486   \n",
        "interaction5       495750        488      498239        336        838014   \n",
        "interaction6       497808        388      497808        388             0   \n",
        "interaction7       484086        252      481092        247          3372   \n",
        "interaction8       484086        252      496930        223         86979   \n",
        "interaction9       499840        430      496497        426         15422   \n",
        "interaction10      498356        377      494919        372        161880   \n",
        "\n",
        "               set_interchromosomal  set_intersect  set_n_tests_non_redundant  \\\n",
        "interaction1                      0              0                     221067   \n",
        "interaction2                      0              0                     313818   \n",
        "interaction3                      0            432                     163521   \n",
        "interaction4                      0              0                     382259   \n",
        "interaction5                      0              0                     163968   \n",
        "interaction6                      0            388                      75078   \n",
        "interaction7                      0            247                      31616   \n",
        "interaction8                      0            182                      39543   \n",
        "interaction9                      0            418                      95609   \n",
        "interaction10                     0            267                     104466   \n",
        "\n",
        "               set_n_tests_plink  set_percentage_shared  set_self_interaction  \\\n",
        "interaction1              221067               0.000000                     0   \n",
        "interaction2              313818               0.000000                     0   \n",
        "interaction3              256617              74.226804                     0   \n",
        "interaction4              382259               0.000000                     0   \n",
        "interaction5              163968               0.000000                     0   \n",
        "interaction6              150156             100.000000                     1   \n",
        "interaction7               61997              98.015873                     0   \n",
        "interaction8               56014              62.116041                     0   \n",
        "interaction9              182762              95.433790                     0   \n",
        "interaction10             139977              55.394191                     0   \n",
        "\n",
        "               set_union  \n",
        "interaction1         972  \n",
        "interaction2        1121  \n",
        "interaction3         582  \n",
        "interaction4        1260  \n",
        "interaction5         824  \n",
        "interaction6         388  \n",
        "interaction7         252  \n",
        "interaction8         293  \n",
        "interaction9         438  \n",
        "interaction10        482  "
       ]
      }
     ],
     "prompt_number": 51
    },
    {
     "cell_type": "code",
     "collapsed": false,
     "input": [
      "### write stats\n",
      "df_set_stats.to_csv('df_set_stats.txt', sep=\"\\t\")"
     ],
     "language": "python",
     "metadata": {},
     "outputs": [],
     "prompt_number": 57
    },
    {
     "cell_type": "code",
     "collapsed": false,
     "input": [
      "### read stats\n",
      "tmp = pd.read_csv('df_set_stats.txt', sep=\"\\t\", index_col=0) # index_col=0 IS needed\n",
      "tmp.head()"
     ],
     "language": "python",
     "metadata": {},
     "outputs": [
      {
       "html": [
        "<div style=\"max-height:1000px;max-width:1500px;overflow:auto;\">\n",
        "<table border=\"1\" class=\"dataframe\">\n",
        "  <thead>\n",
        "    <tr style=\"text-align: right;\">\n",
        "      <th></th>\n",
        "      <th>setA_range</th>\n",
        "      <th>setA_size</th>\n",
        "      <th>setB_range</th>\n",
        "      <th>setB_size</th>\n",
        "      <th>set_distance</th>\n",
        "      <th>set_interchromosomal</th>\n",
        "      <th>set_intersect</th>\n",
        "      <th>set_n_tests_non_redundant</th>\n",
        "      <th>set_n_tests_plink</th>\n",
        "      <th>set_percentage_shared</th>\n",
        "      <th>set_self_interaction</th>\n",
        "      <th>set_union</th>\n",
        "    </tr>\n",
        "  </thead>\n",
        "  <tbody>\n",
        "    <tr>\n",
        "      <th>interaction1</th>\n",
        "      <td> 499669</td>\n",
        "      <td> 363</td>\n",
        "      <td> 494781</td>\n",
        "      <td> 609</td>\n",
        "      <td> 719037</td>\n",
        "      <td> 0</td>\n",
        "      <td>   0</td>\n",
        "      <td> 221067</td>\n",
        "      <td> 221067</td>\n",
        "      <td>  0.000000</td>\n",
        "      <td> 0</td>\n",
        "      <td>  972</td>\n",
        "    </tr>\n",
        "    <tr>\n",
        "      <th>interaction2</th>\n",
        "      <td> 499050</td>\n",
        "      <td> 542</td>\n",
        "      <td> 497256</td>\n",
        "      <td> 579</td>\n",
        "      <td> 505198</td>\n",
        "      <td> 0</td>\n",
        "      <td>   0</td>\n",
        "      <td> 313818</td>\n",
        "      <td> 313818</td>\n",
        "      <td>  0.000000</td>\n",
        "      <td> 0</td>\n",
        "      <td> 1121</td>\n",
        "    </tr>\n",
        "    <tr>\n",
        "      <th>interaction3</th>\n",
        "      <td> 496863</td>\n",
        "      <td> 507</td>\n",
        "      <td> 496217</td>\n",
        "      <td> 507</td>\n",
        "      <td>  55132</td>\n",
        "      <td> 0</td>\n",
        "      <td> 432</td>\n",
        "      <td> 163521</td>\n",
        "      <td> 256617</td>\n",
        "      <td> 74.226804</td>\n",
        "      <td> 0</td>\n",
        "      <td>  582</td>\n",
        "    </tr>\n",
        "    <tr>\n",
        "      <th>interaction4</th>\n",
        "      <td> 499432</td>\n",
        "      <td> 509</td>\n",
        "      <td> 497297</td>\n",
        "      <td> 751</td>\n",
        "      <td> 724486</td>\n",
        "      <td> 0</td>\n",
        "      <td>   0</td>\n",
        "      <td> 382259</td>\n",
        "      <td> 382259</td>\n",
        "      <td>  0.000000</td>\n",
        "      <td> 0</td>\n",
        "      <td> 1260</td>\n",
        "    </tr>\n",
        "    <tr>\n",
        "      <th>interaction5</th>\n",
        "      <td> 495750</td>\n",
        "      <td> 488</td>\n",
        "      <td> 498239</td>\n",
        "      <td> 336</td>\n",
        "      <td> 838014</td>\n",
        "      <td> 0</td>\n",
        "      <td>   0</td>\n",
        "      <td> 163968</td>\n",
        "      <td> 163968</td>\n",
        "      <td>  0.000000</td>\n",
        "      <td> 0</td>\n",
        "      <td>  824</td>\n",
        "    </tr>\n",
        "  </tbody>\n",
        "</table>\n",
        "</div>"
       ],
       "metadata": {},
       "output_type": "pyout",
       "prompt_number": 65,
       "text": [
        "              setA_range  setA_size  setB_range  setB_size  set_distance  \\\n",
        "interaction1      499669        363      494781        609        719037   \n",
        "interaction2      499050        542      497256        579        505198   \n",
        "interaction3      496863        507      496217        507         55132   \n",
        "interaction4      499432        509      497297        751        724486   \n",
        "interaction5      495750        488      498239        336        838014   \n",
        "\n",
        "              set_interchromosomal  set_intersect  set_n_tests_non_redundant  \\\n",
        "interaction1                     0              0                     221067   \n",
        "interaction2                     0              0                     313818   \n",
        "interaction3                     0            432                     163521   \n",
        "interaction4                     0              0                     382259   \n",
        "interaction5                     0              0                     163968   \n",
        "\n",
        "              set_n_tests_plink  set_percentage_shared  set_self_interaction  \\\n",
        "interaction1             221067               0.000000                     0   \n",
        "interaction2             313818               0.000000                     0   \n",
        "interaction3             256617              74.226804                     0   \n",
        "interaction4             382259               0.000000                     0   \n",
        "interaction5             163968               0.000000                     0   \n",
        "\n",
        "              set_union  \n",
        "interaction1        972  \n",
        "interaction2       1121  \n",
        "interaction3        582  \n",
        "interaction4       1260  \n",
        "interaction5        824  "
       ]
      }
     ],
     "prompt_number": 65
    },
    {
     "cell_type": "code",
     "collapsed": false,
     "input": [
      "tmp2 = pd.DataFrame()\n",
      "print \"interaction100\" in tmp.index\n",
      "print \"interaction100\" in tmp2.index\n",
      "print tmp.index[-1]"
     ],
     "language": "python",
     "metadata": {},
     "outputs": [
      {
       "output_type": "stream",
       "stream": "stdout",
       "text": [
        "True\n",
        "False\n",
        "interaction1029\n"
       ]
      }
     ],
     "prompt_number": 77
    },
    {
     "cell_type": "code",
     "collapsed": false,
     "input": [
      "df_set_summay = pd.Series(\n",
      "    {\n",
      "    'setA_size_mean': df_set_stats['setA_size'].mean(),\n",
      "    'setB_size_mean': df_set_stats['setB_size'].mean(),\n",
      "    'set_n_interchromosomal_sum': df_set_stats['set_interchromosomal'].sum(),\n",
      "    'set_n_tests_non_redundant_sum':df_set_stats['set_n_tests_non_redundant'].sum(),\n",
      "    'set_n_tests_plink_sum':df_set_stats['set_n_tests_plink'].sum(),\n",
      "    'set_intersect_mean':df_set_stats['set_intersect'].mean(),\n",
      "    'set_percentage_shared_sum':df_set_stats['set_percentage_shared'].mean()\n",
      "    })\n",
      "df_set_summay.head()"
     ],
     "language": "python",
     "metadata": {},
     "outputs": [
      {
       "metadata": {},
       "output_type": "pyout",
       "prompt_number": 53,
       "text": [
        "setA_mean_size               4.654111e+02\n",
        "setB_mean_size               4.649077e+02\n",
        "set_intersect                1.990010e+02\n",
        "set_n_interchromosomal       1.700000e+01\n",
        "set_n_tests_non_redundant    2.038334e+08\n",
        "dtype: float64"
       ]
      }
     ],
     "prompt_number": 53
    },
    {
     "cell_type": "code",
     "collapsed": false,
     "input": [
      "## write df_set_summay to csv\n",
      "df_set_summay.to_csv(\"df_set_summay.txt\", sep=\"\\t\", index=True)"
     ],
     "language": "python",
     "metadata": {},
     "outputs": [],
     "prompt_number": 55
    },
    {
     "cell_type": "code",
     "collapsed": false,
     "input": [
      "\n",
      "for column_name, series in df_set_stats.iteritems(): # Iterator over (column, series) pairs\n",
      "    print column_name\n",
      "    plt.figure()\n",
      "    _ = plt.hist(series.dropna()) # needed for NaN values in distance\n",
      "    plt.title(column_name, fontsize=18)\n",
      "    plt.xlabel(column_name)\n",
      "    plt.ylabel('counts')\n",
      "    #plt.savefig('fig_%s.png' % column_name)\n",
      "    plt.savefig('fig_%s.pdf' % column_name)\n",
      "    plt.close() # or plt.close(fig)\n",
      "    "
     ],
     "language": "python",
     "metadata": {},
     "outputs": [
      {
       "output_type": "stream",
       "stream": "stdout",
       "text": [
        "setA_range\n",
        "setA_size"
       ]
      },
      {
       "output_type": "stream",
       "stream": "stdout",
       "text": [
        "\n",
        "setB_range"
       ]
      },
      {
       "output_type": "stream",
       "stream": "stdout",
       "text": [
        "\n",
        "setB_size"
       ]
      },
      {
       "output_type": "stream",
       "stream": "stdout",
       "text": [
        "\n",
        "set_distance"
       ]
      },
      {
       "output_type": "stream",
       "stream": "stdout",
       "text": [
        "\n",
        "set_interchromosomal"
       ]
      },
      {
       "output_type": "stream",
       "stream": "stdout",
       "text": [
        "\n",
        "set_intersect"
       ]
      },
      {
       "output_type": "stream",
       "stream": "stdout",
       "text": [
        "\n",
        "set_n_tests_non_redundant"
       ]
      },
      {
       "output_type": "stream",
       "stream": "stdout",
       "text": [
        "\n",
        "set_n_tests_plink"
       ]
      },
      {
       "output_type": "stream",
       "stream": "stdout",
       "text": [
        "\n",
        "set_percentage_shared"
       ]
      },
      {
       "output_type": "stream",
       "stream": "stdout",
       "text": [
        "\n",
        "set_self_interaction"
       ]
      },
      {
       "output_type": "stream",
       "stream": "stdout",
       "text": [
        "\n",
        "set_union"
       ]
      },
      {
       "output_type": "stream",
       "stream": "stdout",
       "text": [
        "\n"
       ]
      }
     ],
     "prompt_number": 33
    },
    {
     "cell_type": "code",
     "collapsed": false,
     "input": [],
     "language": "python",
     "metadata": {},
     "outputs": [],
     "prompt_number": 33
    },
    {
     "cell_type": "code",
     "collapsed": false,
     "input": [],
     "language": "python",
     "metadata": {},
     "outputs": [],
     "prompt_number": 81
    },
    {
     "cell_type": "markdown",
     "metadata": {},
     "source": [
      "### PLAYING"
     ]
    },
    {
     "cell_type": "code",
     "collapsed": false,
     "input": [
      "plt.figure()\n",
      "_ = plt.hist(df_set_stats['setA_size'])\n",
      "plt.title('XXX', fontsize=18)\n",
      "plt.xlabel('XXX')\n",
      "plt.ylabel('counts')\n",
      "plt.savefig('tmp.png')\n",
      "plt.savefig('tmp.pdf')"
     ],
     "language": "python",
     "metadata": {},
     "outputs": []
    },
    {
     "cell_type": "code",
     "collapsed": false,
     "input": [
      "s_tmp = df_A_extract[\"pos\"].describe(percentiles=None)\n",
      "s_tmp.index"
     ],
     "language": "python",
     "metadata": {},
     "outputs": [
      {
       "metadata": {},
       "output_type": "pyout",
       "prompt_number": 92,
       "text": [
        "Index([u'count', u'mean', u'std', u'min', u'25%', u'50%', u'75%', u'max'], dtype='object')"
       ]
      }
     ],
     "prompt_number": 92
    },
    {
     "cell_type": "code",
     "collapsed": false,
     "input": [
      "s_tmp.to_csv(\"tmp.txt\", sep=\"\\t\", index=True)"
     ],
     "language": "python",
     "metadata": {},
     "outputs": [],
     "prompt_number": 93
    },
    {
     "cell_type": "code",
     "collapsed": false,
     "input": [],
     "language": "python",
     "metadata": {},
     "outputs": []
    }
   ],
   "metadata": {}
  }
 ]
}