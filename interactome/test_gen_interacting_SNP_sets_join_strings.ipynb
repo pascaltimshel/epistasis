{
 "metadata": {
  "name": "",
  "signature": "sha256:1fe84aed9974737a1111073871e8e72f1eb15b26b371bbf9463b580802081451"
 },
 "nbformat": 3,
 "nbformat_minor": 0,
 "worksheets": [
  {
   "cells": [
    {
     "cell_type": "code",
     "collapsed": false,
     "input": [
      "%matplotlib inline\n",
      "import os\n",
      "import sys\n",
      "import numpy as np\n",
      "import pandas as pd\n"
     ],
     "language": "python",
     "metadata": {},
     "outputs": [],
     "prompt_number": 1
    },
    {
     "cell_type": "code",
     "collapsed": false,
     "input": [
      "file_bim = \"/Users/pascaltimshel/Dropbox/5_Data/EGCUT_DATA/geno/Prote_370k_251011.no_mixup.chr_infered.bim\"\n",
      "file_interactions = \"/Users/pascaltimshel/p_HiC/Lan_et_al_chromosomal_interactions/lift_findItersection.intersection.paste.updatedIDs\"\n",
      "interaction_width = 10*1000/2"
     ],
     "language": "python",
     "metadata": {},
     "outputs": [],
     "prompt_number": 9
    },
    {
     "cell_type": "code",
     "collapsed": false,
     "input": [
      "path_base_out = \"/Users/pascaltimshel/p_HiC/Lan_et_al_interaction_SNP_sets\""
     ],
     "language": "python",
     "metadata": {},
     "outputs": [],
     "prompt_number": 10
    },
    {
     "cell_type": "code",
     "collapsed": false,
     "input": [
      "### READ BIM\n",
      "header_bim = [\"chr\", \"snp\", \"cm\", \"pos\", \"dummy1\", \"dummy2\"]\n",
      "df_bim = pd.read_csv(file_bim, sep=\"\\t\", header=None, names=header_bim)"
     ],
     "language": "python",
     "metadata": {},
     "outputs": [],
     "prompt_number": 11
    },
    {
     "cell_type": "code",
     "collapsed": false,
     "input": [
      "df_bim\n",
      "len(df_bim)"
     ],
     "language": "python",
     "metadata": {},
     "outputs": [
      {
       "metadata": {},
       "output_type": "pyout",
       "prompt_number": 12,
       "text": [
        "2552493"
       ]
      }
     ],
     "prompt_number": 12
    },
    {
     "cell_type": "code",
     "collapsed": false,
     "input": [
      "with open(file_interactions, 'r') as f:\n",
      "    for line_no, line in enumerate(f):\n",
      "        if line_no == 1: break\n",
      "        \n",
      "        fields = line.strip().split()\n",
      "        (chr_A, pos_A, chr_B, pos_B, interaction_ID) = (fields[0], fields[1], fields[4], fields[5], fields[8])\n",
      "        print chr_A"
     ],
     "language": "python",
     "metadata": {},
     "outputs": [
      {
       "output_type": "stream",
       "stream": "stdout",
       "text": [
        "chr12\n"
       ]
      }
     ],
     "prompt_number": 13
    },
    {
     "cell_type": "code",
     "collapsed": false,
     "input": [
      "df_set_stats = pd.DataFrame() #columns=['setA_size', 'setA_range' 'setB_size', 'setB_range']\n",
      "\n",
      "with open(file_interactions, 'r') as f:\n",
      "    for line_no, line in enumerate(f):\n",
      "        if line_no == 2: break\n",
      "        \n",
      "        fields = line.strip().split()\n",
      "        (chr_A, pos_A, chr_B, pos_B, interaction_ID) = (fields[0], fields[1], fields[4], fields[5], fields[8])\n",
      "        \n",
      "        ## Turn off X chromosomes\n",
      "        #if (chr_A.upper() == 'CHRX') or (chr_B.upper() == 'CHRX'):\n",
      "        #    continue\n",
      "        ## Modifying chromosomes\n",
      "        if 'X' in chr_A.upper(): chr_A = chr_A.replace('X', '23')\n",
      "        if 'X' in chr_B.upper(): chr_B = chr_B.replace('X', '23')\n",
      "        chr_A = int(chr_A.lstrip('chr'))\n",
      "        chr_B = int(chr_B.lstrip('chr'))\n",
      "        pos_A = int(pos_A)\n",
      "        pos_B = int(pos_B)\n",
      "        if line_no % 100 == 20: print chr_A, pos_A, chr_B, pos_B, interaction_ID\n",
      "        \n",
      "        ### A\n",
      "        df_A_extract = df_bim[df_bim[\"chr\"]==chr_A]\n",
      "        df_A_extract = df_A_extract[(df_A_extract[\"pos\"] >= pos_A-interaction_width) & (df_bim[\"pos\"] <= pos_A+interaction_width)]\n",
      "        ### B\n",
      "        df_B_extract = df_bim[df_bim[\"chr\"]==chr_B]\n",
      "        df_B_extract = df_B_extract[(df_B_extract[\"pos\"] >= pos_B-interaction_width) & (df_bim[\"pos\"] <= pos_B+interaction_width)]       \n",
      "        \n",
      "        ## set calculations\n",
      "        tmp_intersection = len(set(df_A_extract['snp']).intersection(set(df_B_extract['snp'])))\n",
      "        tmp_union = len(set(df_A_extract['snp']).union(set(df_B_extract['snp'])))\n",
      "        ## number of tests\n",
      "        n_tests_plink = len(df_A_extract)*len(df_B_extract)-tmp_intersection\n",
      "        n_tests_non_redundant = len(df_A_extract)*len(df_B_extract)-tmp_intersection**2+(tmp_intersection-1)*tmp_intersection/2 # int division ok! # N_A*N_B-N_AB^2+(N_AB-1)*N_AB/2\n",
      "        ## df_stats\n",
      "        df_stats = pd.DataFrame({'set_interchromosomal':1 if chr_A != chr_B else 0,\n",
      "                                 'set_distance': abs(pos_A - pos_B) if chr_A == chr_B else None, # or np.nan\n",
      "                                'set_intersect':tmp_intersection,\n",
      "                                'set_union':tmp_union,\n",
      "                                'set_self_interaction':1 if (chr_A == chr_B) and (pos_A == pos_B) else 0,\n",
      "                                'set_percentage_shared':tmp_intersection/float(tmp_union)*100 if tmp_union!=0 else None, # float divison\n",
      "                                'set_n_tests_plink':n_tests_plink,\n",
      "                                'set_n_tests_non_redundant': n_tests_non_redundant,\n",
      "                                 'setA_size':len(df_A_extract), \n",
      "                                 'setA_range':df_A_extract[\"pos\"].max()-df_A_extract[\"pos\"].min(), \n",
      "                                 'setB_size':len(df_B_extract), \n",
      "                                 'setB_range':df_B_extract[\"pos\"].max()-df_B_extract[\"pos\"].min()}, \n",
      "                                index=[interaction_ID])\n",
      "        df_set_stats = df_set_stats.append(df_stats) # index and columns are appended to the end of the dataframe\n",
      "        # If no columns are passed, the columns will be the sorted list of dict keys.\n",
      "        \n",
      "        for snp in df_A_extract[\"snp\"]:\n",
      "            print(snp)\n",
      "\n",
      "        #http://pandas.pydata.org/pandas-docs/stable/generated/pandas.core.strings.StringMethods.join.html\n",
      "        df_A_extract[\"snp\"].str.join(';')"
     ],
     "language": "python",
     "metadata": {},
     "outputs": [
      {
       "output_type": "stream",
       "stream": "stdout",
       "text": [
        "rs4913292\n",
        "rs9865279"
       ]
      },
      {
       "output_type": "stream",
       "stream": "stdout",
       "text": [
        "\n",
        "rs9865704\n",
        "rs13080601\n",
        "rs13080921\n",
        "rs13081475\n",
        "rs11718592\n",
        "rs1304716\n",
        "rs1574976\n",
        "rs13314474\n",
        "rs6777874\n",
        "rs8479\n",
        "rs6776940\n",
        "rs1918123\n",
        "rs1918124\n",
        "rs9842403\n",
        "rs1583122\n"
       ]
      }
     ],
     "prompt_number": 20
    },
    {
     "cell_type": "code",
     "collapsed": false,
     "input": [
      "df_A_extract[\"snp\"].str.join(';')"
     ],
     "language": "python",
     "metadata": {},
     "outputs": [
      {
       "metadata": {},
       "output_type": "pyout",
       "prompt_number": 28,
       "text": [
        "549063     rs9865279\n",
        "549064     rs9865704\n",
        "549065    rs13080601\n",
        "549066    rs13080921\n",
        "549067    rs13081475\n",
        "549068    rs11718592\n",
        "549069     rs1304716\n",
        "549070     rs1574976\n",
        "549071    rs13314474\n",
        "549072     rs6777874\n",
        "549073        rs8479\n",
        "549074     rs6776940\n",
        "549075     rs1918123\n",
        "549076     rs1918124\n",
        "549077     rs9842403\n",
        "549078     rs1583122\n",
        "Name: snp, dtype: object"
       ]
      }
     ],
     "prompt_number": 28
    },
    {
     "cell_type": "code",
     "collapsed": false,
     "input": [
      "#tmp_list = df_A_extract[\"snp\"].tolist()\n",
      "#\";\".join(tmp_list)\n",
      "\";\".join(df_A_extract[\"snp\"].tolist())"
     ],
     "language": "python",
     "metadata": {},
     "outputs": [
      {
       "metadata": {},
       "output_type": "pyout",
       "prompt_number": 31,
       "text": [
        "'rs9865279;rs9865704;rs13080601;rs13080921;rs13081475;rs11718592;rs1304716;rs1574976;rs13314474;rs6777874;rs8479;rs6776940;rs1918123;rs1918124;rs9842403;rs1583122'"
       ]
      }
     ],
     "prompt_number": 31
    },
    {
     "cell_type": "markdown",
     "metadata": {},
     "source": [
      "### PLAYING"
     ]
    },
    {
     "cell_type": "code",
     "collapsed": false,
     "input": [
      "pd.__version__"
     ],
     "language": "python",
     "metadata": {},
     "outputs": [
      {
       "metadata": {},
       "output_type": "pyout",
       "prompt_number": 19,
       "text": [
        "'0.14.1'"
       ]
      }
     ],
     "prompt_number": 19
    },
    {
     "cell_type": "code",
     "collapsed": false,
     "input": [
      "#dir(df_A_extract[\"snp\"])\n",
      "float(\"3.455\")\n",
      "import time\n",
      "time.time()"
     ],
     "language": "python",
     "metadata": {},
     "outputs": [
      {
       "metadata": {},
       "output_type": "pyout",
       "prompt_number": 47,
       "text": [
        "1420675657.348151"
       ]
      }
     ],
     "prompt_number": 47
    },
    {
     "cell_type": "code",
     "collapsed": false,
     "input": [
      "type(sum([time.time()]))"
     ],
     "language": "python",
     "metadata": {},
     "outputs": [
      {
       "metadata": {},
       "output_type": "pyout",
       "prompt_number": 50,
       "text": [
        "float"
       ]
      }
     ],
     "prompt_number": 50
    },
    {
     "cell_type": "code",
     "collapsed": false,
     "input": [
      "colorder = [\"interaction_ID\", \"chr_A\", \"pos_A\", \"chr_B\", \"pos_B\", \"setA_size\", \"setB_size\", \"snps_A\", \"snps_B\"]\n",
      "colorder"
     ],
     "language": "python",
     "metadata": {},
     "outputs": [
      {
       "metadata": {},
       "output_type": "pyout",
       "prompt_number": 44,
       "text": [
        "['interaction_ID',\n",
        " 'chr_A',\n",
        " 'pos_A',\n",
        " 'chr_B',\n",
        " 'pos_B',\n",
        " 'setA_size',\n",
        " 'setB_size',\n",
        " 'snps_A',\n",
        " 'snps_B']"
       ]
      }
     ],
     "prompt_number": 44
    },
    {
     "cell_type": "code",
     "collapsed": false,
     "input": [
      "df = pd.DataFrame(dict(c=3, b=np.random.randn(5),\n",
      "                       a=5), columns=[\"c\", \"b\", \"a\"])"
     ],
     "language": "python",
     "metadata": {},
     "outputs": [],
     "prompt_number": 41
    },
    {
     "cell_type": "code",
     "collapsed": false,
     "input": [
      "df"
     ],
     "language": "python",
     "metadata": {},
     "outputs": [
      {
       "html": [
        "<div style=\"max-height:1000px;max-width:1500px;overflow:auto;\">\n",
        "<table border=\"1\" class=\"dataframe\">\n",
        "  <thead>\n",
        "    <tr style=\"text-align: right;\">\n",
        "      <th></th>\n",
        "      <th>c</th>\n",
        "      <th>b</th>\n",
        "      <th>a</th>\n",
        "    </tr>\n",
        "  </thead>\n",
        "  <tbody>\n",
        "    <tr>\n",
        "      <th>0</th>\n",
        "      <td> 3</td>\n",
        "      <td> 0.010410</td>\n",
        "      <td> 5</td>\n",
        "    </tr>\n",
        "    <tr>\n",
        "      <th>1</th>\n",
        "      <td> 3</td>\n",
        "      <td>-0.412629</td>\n",
        "      <td> 5</td>\n",
        "    </tr>\n",
        "    <tr>\n",
        "      <th>2</th>\n",
        "      <td> 3</td>\n",
        "      <td>-0.491872</td>\n",
        "      <td> 5</td>\n",
        "    </tr>\n",
        "    <tr>\n",
        "      <th>3</th>\n",
        "      <td> 3</td>\n",
        "      <td> 0.026292</td>\n",
        "      <td> 5</td>\n",
        "    </tr>\n",
        "    <tr>\n",
        "      <th>4</th>\n",
        "      <td> 3</td>\n",
        "      <td> 0.909747</td>\n",
        "      <td> 5</td>\n",
        "    </tr>\n",
        "  </tbody>\n",
        "</table>\n",
        "</div>"
       ],
       "metadata": {},
       "output_type": "pyout",
       "prompt_number": 42,
       "text": [
        "   c         b  a\n",
        "0  3  0.010410  5\n",
        "1  3 -0.412629  5\n",
        "2  3 -0.491872  5\n",
        "3  3  0.026292  5\n",
        "4  3  0.909747  5"
       ]
      }
     ],
     "prompt_number": 42
    },
    {
     "cell_type": "code",
     "collapsed": false,
     "input": [],
     "language": "python",
     "metadata": {},
     "outputs": []
    }
   ],
   "metadata": {}
  }
 ]
}