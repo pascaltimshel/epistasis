{
 "metadata": {
  "name": "",
  "signature": "sha256:bd496d80441611ed29cc1305713bea83bb347c422a521778459bae3a5f32c867"
 },
 "nbformat": 3,
 "nbformat_minor": 0,
 "worksheets": [
  {
   "cells": [
    {
     "cell_type": "code",
     "collapsed": false,
     "input": [
      "import os\n",
      "import sys\n",
      "import collections"
     ],
     "language": "python",
     "metadata": {},
     "outputs": [],
     "prompt_number": 2
    },
    {
     "cell_type": "code",
     "collapsed": false,
     "input": [
      "file_fit_hi_c = \"/Users/pascaltimshel/p_HiC/Ferhat_Ay_2014/web_download/pascal_dixon2012/hIMR90_HindIII_hg19.spline_pass1.res10000.significances.q_lt_0.001.inter.txt\"\n",
      "\n",
      "#chr1\tfragmentMid1\tchr2\tfragmentMid2\tcontactCount\tp-value\tq-value\n",
      "#chr10\t100005000\tchr10\t100035000\t17\t1.000000e+00\t1.000000e+00\n",
      "#chr10\t100005000\tchr10\t100045000\t8\t1.000000e+00\t1.000000e+00\n",
      "#chr10\t100005000\tchr10\t100055000\t13\t1.000000e+00\t1.000000e+00"
     ],
     "language": "python",
     "metadata": {},
     "outputs": [],
     "prompt_number": 3
    },
    {
     "cell_type": "code",
     "collapsed": false,
     "input": [
      "with open(file_fit_hi_c, 'r') as f_fit_hi_c:\n",
      "    for line in f_fit_hi_c:\n",
      "        "
     ],
     "language": "python",
     "metadata": {},
     "outputs": []
    }
   ],
   "metadata": {}
  }
 ]
}