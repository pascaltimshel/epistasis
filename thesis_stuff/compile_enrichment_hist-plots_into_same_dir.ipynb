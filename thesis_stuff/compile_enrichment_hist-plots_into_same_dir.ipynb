{
 "cells": [
  {
   "cell_type": "code",
   "execution_count": 8,
   "metadata": {
    "collapsed": true
   },
   "outputs": [],
   "source": [
    "import os\n",
    "import sys\n",
    "import shutil"
   ]
  },
  {
   "cell_type": "markdown",
   "metadata": {},
   "source": [
    "This script is used to COPY figures from individual \"runs\" into the same dir.\n",
    "The plot file is RENAMED to give a proper identifier"
   ]
  },
  {
   "cell_type": "code",
   "execution_count": 5,
   "metadata": {
    "collapsed": false
   },
   "outputs": [
    {
     "data": {
      "text/plain": [
       "'/Users/pascaltimshel/Dropbox/0_Projects/p_HiC/Ferhat_Ay_2014/fastEpi_compiled_broad_scp_null_v2/plots_compiled_2015-06-07'"
      ]
     },
     "execution_count": 5,
     "metadata": {},
     "output_type": "execute_result"
    }
   ],
   "source": [
    "# Output and directories\n",
    "path_out_name = \"compiled_2015-06-07_plots\"\n",
    "path_plots_compiled = \"/Users/pascaltimshel/Dropbox/0_Projects/p_HiC/Ferhat_Ay_2014/fastEpi_compiled_broad_scp_null_v2\"\n",
    "path_out = os.path.join(path_plots_compiled, path_out_name)\n",
    "path_out"
   ]
  },
  {
   "cell_type": "code",
   "execution_count": 12,
   "metadata": {
    "collapsed": false
   },
   "outputs": [],
   "source": [
    "## create output dir\n",
    "if not os.path.exists(path_out):\n",
    "    os.mkdir(path_out)\n",
    "    print \"path_out created\""
   ]
  },
  {
   "cell_type": "code",
   "execution_count": 13,
   "metadata": {
    "collapsed": false
   },
   "outputs": [
    {
     "name": "stdout",
     "output_type": "stream",
     "text": [
      "could not find .DS_Store\n",
      "could not find OLD_before_blacklist\n",
      "could not find plots_compiled_2015-06-07\n"
     ]
    }
   ],
   "source": [
    "for directory in os.listdir(path_plots_compiled):\n",
    "    plot_of_interest = \"{base}/{directory}/epistasis_table_processing/fig_subplot_Hi-C_epistasis_enrichment.pdf\".format(base=path_plots_compiled, directory=directory)\n",
    "    if os.path.exists(plot_of_interest):\n",
    "        #print directory\n",
    "        plot_name_out = \"fig_epistasis_enrichment_{}.pdf\".format(directory)\n",
    "        tmp_path_out_plot = os.path.join(path_out, plot_name_out)\n",
    "        #print tmp_path_out_plot\n",
    "        ###shutil.copyfile(src, dst)\n",
    "        shutil.copyfile(plot_of_interest, tmp_path_out_plot)\n",
    "    else:\n",
    "        print \"could not find {}\".format(directory)\n",
    "        \n"
   ]
  },
  {
   "cell_type": "code",
   "execution_count": 6,
   "metadata": {
    "collapsed": false
   },
   "outputs": [
    {
     "data": {
      "text/plain": [
       "['.DS_Store',\n",
       " 'hESC-contactCount_1_width_1000_maf_5_q_1_epi1_1e-8',\n",
       " 'hESC_width_1000_maf_5_q_1e-12_epi1_1e-10',\n",
       " 'hESC_width_2500_maf_5_q_1e-13_epi1_1e-10',\n",
       " 'hESC_width_500_maf_5_q_1e-14_epi1_1e-8',\n",
       " 'hESC_width_500_maf_5_q_1e-16_epi1_1e-8',\n",
       " 'hIMR90-contactCount_1_width_1000_maf_5_q_1_epi1_1e-8',\n",
       " 'hIMR90_width_1000_maf_5_q_1e-06_epi1_1e-10',\n",
       " 'hIMR90_width_2500_maf_5_q_1e-07_epi1_1e-8',\n",
       " 'hIMR90_width_50000_maf_5_q_1e-09_epi1_1e-10',\n",
       " 'hIMR90_width_500_maf_5_q_1e-06_epi1_1e-8',\n",
       " 'hIMR90_width_500_maf_5_q_1e-08_epi1_1e-8',\n",
       " 'lan-et-al_K562_width_1000_maf_5_q_OUTLIER_RM_epi1_1e-8',\n",
       " 'lan-et-al_K562_width_5000_maf_5_q_OUTLIER_RM_epi1_1e-8',\n",
       " 'OLD_before_blacklist']"
      ]
     },
     "execution_count": 6,
     "metadata": {},
     "output_type": "execute_result"
    }
   ],
   "source": [
    "os.listdir(path_plots_compiled)"
   ]
  },
  {
   "cell_type": "code",
   "execution_count": null,
   "metadata": {
    "collapsed": true
   },
   "outputs": [],
   "source": []
  },
  {
   "cell_type": "code",
   "execution_count": null,
   "metadata": {
    "collapsed": true
   },
   "outputs": [],
   "source": []
  },
  {
   "cell_type": "code",
   "execution_count": null,
   "metadata": {
    "collapsed": true
   },
   "outputs": [],
   "source": []
  },
  {
   "cell_type": "code",
   "execution_count": null,
   "metadata": {
    "collapsed": true
   },
   "outputs": [],
   "source": []
  },
  {
   "cell_type": "code",
   "execution_count": null,
   "metadata": {
    "collapsed": true
   },
   "outputs": [],
   "source": []
  },
  {
   "cell_type": "code",
   "execution_count": null,
   "metadata": {
    "collapsed": true
   },
   "outputs": [],
   "source": []
  },
  {
   "cell_type": "code",
   "execution_count": null,
   "metadata": {
    "collapsed": true
   },
   "outputs": [],
   "source": []
  },
  {
   "cell_type": "code",
   "execution_count": null,
   "metadata": {
    "collapsed": true
   },
   "outputs": [],
   "source": []
  },
  {
   "cell_type": "code",
   "execution_count": null,
   "metadata": {
    "collapsed": true
   },
   "outputs": [],
   "source": []
  },
  {
   "cell_type": "code",
   "execution_count": null,
   "metadata": {
    "collapsed": true
   },
   "outputs": [],
   "source": []
  },
  {
   "cell_type": "code",
   "execution_count": null,
   "metadata": {
    "collapsed": true
   },
   "outputs": [],
   "source": []
  },
  {
   "cell_type": "code",
   "execution_count": null,
   "metadata": {
    "collapsed": true
   },
   "outputs": [],
   "source": []
  }
 ],
 "metadata": {
  "kernelspec": {
   "display_name": "Python 2",
   "language": "python",
   "name": "python2"
  },
  "language_info": {
   "codemirror_mode": {
    "name": "ipython",
    "version": 2
   },
   "file_extension": ".py",
   "mimetype": "text/x-python",
   "name": "python",
   "nbconvert_exporter": "python",
   "pygments_lexer": "ipython2",
   "version": "2.7.9"
  }
 },
 "nbformat": 4,
 "nbformat_minor": 0
}
